{
  "nbformat": 4,
  "nbformat_minor": 0,
  "metadata": {
    "colab": {
      "provenance": []
    },
    "kernelspec": {
      "name": "python3",
      "display_name": "Python 3"
    },
    "language_info": {
      "name": "python"
    }
  },
  "cells": [
    {
      "cell_type": "code",
      "execution_count": 9,
      "metadata": {
        "id": "ZQCaK0yQB9tn"
      },
      "outputs": [],
      "source": [
        "import numpy as np\n",
        "from random import randint\n",
        "from sklearn.utils import shuffle\n",
        "from sklearn.preprocessing import MinMaxScaler"
      ]
    },
    {
      "cell_type": "code",
      "source": [
        "# EXAMPLE DATA.\n",
        "# Experimental drug was tested on 2100 individuals between 13 to 100 yrs of age.\n",
        "# Half of the participants are undr 65yrs . Around 95% of the under 65yrs old experienced no side effects.\n",
        "# 95% of the over 65yrs old experienced side effects\n",
        "\n",
        "train_labels = []\n",
        "train_samples = []"
      ],
      "metadata": {
        "id": "fiMc8gxNCAp3"
      },
      "execution_count": 10,
      "outputs": []
    },
    {
      "cell_type": "code",
      "source": [
        "for i in  range(50):\n",
        "  # The 5% of younger individuals who did experience side effects\n",
        "  random_younger = randint(13,64)\n",
        "  train_samples.append(random_younger)\n",
        "  train_labels.append(1)\n",
        "\n",
        "  # The 5% of older individuals who did not experience side effects\n",
        "  random_older = randint(65,100)\n",
        "  train_samples.append(random_older)\n",
        "  train_labels.append(0)\n",
        "\n",
        "for i in range(1000):\n",
        "  # The 5% of younger individuals who did experience side effects\n",
        "  random_younger = randint(13,64)\n",
        "  train_samples.append(random_younger)\n",
        "  train_labels.append(0)\n",
        "\n",
        "  # The 5% of older individuals who did not experience side effects\n",
        "  random_older = randint(65,100)\n",
        "  train_samples.append(random_older)\n",
        "  train_labels.append(1)"
      ],
      "metadata": {
        "id": "zSAb4gIUCE8y"
      },
      "execution_count": 11,
      "outputs": []
    },
    {
      "cell_type": "code",
      "source": [
        "print(len(train_samples),train_samples[:50])\n",
        "print(len(train_labels),train_labels[:50])"
      ],
      "metadata": {
        "colab": {
          "base_uri": "https://localhost:8080/"
        },
        "id": "8LnZ6kAuCJY5",
        "outputId": "2222b871-1720-4662-8fb9-dee5d260f6ad"
      },
      "execution_count": 12,
      "outputs": [
        {
          "output_type": "stream",
          "name": "stdout",
          "text": [
            "2100 [40, 89, 25, 67, 64, 83, 35, 79, 62, 98, 24, 98, 38, 74, 28, 66, 48, 65, 13, 88, 46, 90, 16, 77, 50, 82, 44, 72, 19, 99, 57, 88, 17, 73, 36, 70, 24, 68, 63, 67, 17, 87, 43, 100, 22, 94, 44, 68, 15, 97]\n",
            "2100 [1, 0, 1, 0, 1, 0, 1, 0, 1, 0, 1, 0, 1, 0, 1, 0, 1, 0, 1, 0, 1, 0, 1, 0, 1, 0, 1, 0, 1, 0, 1, 0, 1, 0, 1, 0, 1, 0, 1, 0, 1, 0, 1, 0, 1, 0, 1, 0, 1, 0]\n"
          ]
        }
      ]
    },
    {
      "cell_type": "code",
      "source": [
        "train_samples = np.array(train_samples)\n",
        "train_labels = np.array(train_labels)\n",
        "train_samples, train_labels = shuffle(train_samples, train_labels)"
      ],
      "metadata": {
        "id": "O9eOU7rVCMb3"
      },
      "execution_count": 13,
      "outputs": []
    },
    {
      "cell_type": "code",
      "source": [
        "print(('Train Samples:'), train_samples)\n",
        "print(('Train Labels:'), train_labels )"
      ],
      "metadata": {
        "colab": {
          "base_uri": "https://localhost:8080/"
        },
        "id": "4k_V3NoUGvWR",
        "outputId": "204fd4ea-9550-4b46-ccee-0635527013e9"
      },
      "execution_count": 14,
      "outputs": [
        {
          "output_type": "stream",
          "name": "stdout",
          "text": [
            "Train Samples: [28 96 98 ... 97 78 83]\n",
            "Train Labels: [0 1 1 ... 1 1 1]\n"
          ]
        }
      ]
    },
    {
      "cell_type": "code",
      "source": [
        "scaler = MinMaxScaler(feature_range=(0,1))\n",
        "scaled_train_samples = scaler.fit_transform(train_samples.reshape(-1,1))\n",
        "scaled_train_samples[:10]"
      ],
      "metadata": {
        "colab": {
          "base_uri": "https://localhost:8080/"
        },
        "id": "hKSKu2bqH7wP",
        "outputId": "39580018-4721-40ca-fddd-ba23c35adfdf"
      },
      "execution_count": 15,
      "outputs": [
        {
          "output_type": "execute_result",
          "data": {
            "text/plain": [
              "array([[0.17241379],\n",
              "       [0.95402299],\n",
              "       [0.97701149],\n",
              "       [0.02298851],\n",
              "       [0.65517241],\n",
              "       [0.71264368],\n",
              "       [0.67816092],\n",
              "       [0.71264368],\n",
              "       [0.17241379],\n",
              "       [0.71264368]])"
            ]
          },
          "metadata": {},
          "execution_count": 15
        }
      ]
    },
    {
      "cell_type": "markdown",
      "source": [
        "**CREATING AN ARTIFICIAL NEURAL NETWORK**\n",
        "\n"
      ],
      "metadata": {
        "id": "UiqDy8P6MFhf"
      }
    },
    {
      "cell_type": "code",
      "source": [
        "import tensorflow as tf\n",
        "from tensorflow import keras\n",
        "from tensorflow.keras.models import Sequential\n",
        "from tensorflow.keras.layers import Activation, Dense\n",
        "from tensorflow.keras.optimizers import Adam\n",
        "from tensorflow.keras.metrics import categorical_crossentropy"
      ],
      "metadata": {
        "id": "Z3XIoKyIMNus"
      },
      "execution_count": 16,
      "outputs": []
    },
    {
      "cell_type": "code",
      "source": [
        "model = Sequential([\n",
        "    Dense(units = 16, input_shape=(1,1), activation =  'relu'),\n",
        "    Dense(units =16, activation = 'relu'),\n",
        "    Dense(units =2, activation= 'softmax')\n",
        "])"
      ],
      "metadata": {
        "id": "e2nxW3pZMzmO"
      },
      "execution_count": 18,
      "outputs": []
    },
    {
      "cell_type": "code",
      "source": [
        "model.summary()"
      ],
      "metadata": {
        "colab": {
          "base_uri": "https://localhost:8080/"
        },
        "id": "iH3Z1oZfMdFu",
        "outputId": "cfd353e6-9d1c-4fe4-e43a-eecd406846a6"
      },
      "execution_count": 19,
      "outputs": [
        {
          "output_type": "stream",
          "name": "stdout",
          "text": [
            "Model: \"sequential_1\"\n",
            "_________________________________________________________________\n",
            " Layer (type)                Output Shape              Param #   \n",
            "=================================================================\n",
            " dense_3 (Dense)             (None, 1, 16)             32        \n",
            "                                                                 \n",
            " dense_4 (Dense)             (None, 1, 16)             272       \n",
            "                                                                 \n",
            " dense_5 (Dense)             (None, 1, 2)              34        \n",
            "                                                                 \n",
            "=================================================================\n",
            "Total params: 338 (1.32 KB)\n",
            "Trainable params: 338 (1.32 KB)\n",
            "Non-trainable params: 0 (0.00 Byte)\n",
            "_________________________________________________________________\n"
          ]
        }
      ]
    },
    {
      "cell_type": "markdown",
      "source": [
        "# Training the Model"
      ],
      "metadata": {
        "id": "5mRZEdfLOKcY"
      }
    },
    {
      "cell_type": "code",
      "source": [
        "model.compile(optimizer= Adam(learning_rate = 0.0001), loss ='sparse_categorical_crossentropy', metrics=['accuracy'])"
      ],
      "metadata": {
        "id": "dk-ONHYDMuHa"
      },
      "execution_count": 21,
      "outputs": []
    },
    {
      "cell_type": "code",
      "source": [
        "model.fit(x= scaled_train_samples, y= train_labels, validation_split= 0.1, batch_size= 10, shuffle= True, epochs= 30, verbose= 2 )"
      ],
      "metadata": {
        "colab": {
          "base_uri": "https://localhost:8080/"
        },
        "id": "Scr4ObP4Nyo1",
        "outputId": "c4b169db-1456-490f-c343-e308bb0fe8bc"
      },
      "execution_count": 22,
      "outputs": [
        {
          "output_type": "stream",
          "name": "stdout",
          "text": [
            "Epoch 1/30\n",
            "189/189 - 1s - loss: 0.6544 - accuracy: 0.5046 - val_loss: 0.6410 - val_accuracy: 0.5352 - 1s/epoch - 6ms/step\n",
            "Epoch 2/30\n",
            "189/189 - 0s - loss: 0.6357 - accuracy: 0.5157 - val_loss: 0.6191 - val_accuracy: 0.5381 - 317ms/epoch - 2ms/step\n",
            "Epoch 3/30\n",
            "189/189 - 0s - loss: 0.6157 - accuracy: 0.5296 - val_loss: 0.5983 - val_accuracy: 0.5429 - 293ms/epoch - 2ms/step\n",
            "Epoch 4/30\n",
            "189/189 - 0s - loss: 0.5935 - accuracy: 0.5289 - val_loss: 0.5741 - val_accuracy: 0.5390 - 273ms/epoch - 1ms/step\n",
            "Epoch 5/30\n",
            "189/189 - 0s - loss: 0.5704 - accuracy: 0.5358 - val_loss: 0.5498 - val_accuracy: 0.5419 - 197ms/epoch - 1ms/step\n",
            "Epoch 6/30\n",
            "189/189 - 0s - loss: 0.5464 - accuracy: 0.5281 - val_loss: 0.5238 - val_accuracy: 0.5438 - 211ms/epoch - 1ms/step\n",
            "Epoch 7/30\n",
            "189/189 - 0s - loss: 0.5209 - accuracy: 0.5234 - val_loss: 0.4967 - val_accuracy: 0.5438 - 196ms/epoch - 1ms/step\n",
            "Epoch 8/30\n",
            "189/189 - 0s - loss: 0.4946 - accuracy: 0.5387 - val_loss: 0.4691 - val_accuracy: 0.5438 - 197ms/epoch - 1ms/step\n",
            "Epoch 9/30\n",
            "189/189 - 0s - loss: 0.4687 - accuracy: 0.5382 - val_loss: 0.4422 - val_accuracy: 0.5457 - 200ms/epoch - 1ms/step\n",
            "Epoch 10/30\n",
            "189/189 - 0s - loss: 0.4440 - accuracy: 0.5416 - val_loss: 0.4165 - val_accuracy: 0.5457 - 193ms/epoch - 1ms/step\n",
            "Epoch 11/30\n",
            "189/189 - 0s - loss: 0.4211 - accuracy: 0.5321 - val_loss: 0.3931 - val_accuracy: 0.5476 - 242ms/epoch - 1ms/step\n",
            "Epoch 12/30\n",
            "189/189 - 0s - loss: 0.4002 - accuracy: 0.5378 - val_loss: 0.3720 - val_accuracy: 0.5476 - 195ms/epoch - 1ms/step\n",
            "Epoch 13/30\n",
            "189/189 - 0s - loss: 0.3817 - accuracy: 0.5408 - val_loss: 0.3524 - val_accuracy: 0.5476 - 199ms/epoch - 1ms/step\n",
            "Epoch 14/30\n",
            "189/189 - 0s - loss: 0.3652 - accuracy: 0.5322 - val_loss: 0.3351 - val_accuracy: 0.5476 - 194ms/epoch - 1ms/step\n",
            "Epoch 15/30\n",
            "189/189 - 0s - loss: 0.3508 - accuracy: 0.5351 - val_loss: 0.3201 - val_accuracy: 0.5476 - 195ms/epoch - 1ms/step\n",
            "Epoch 16/30\n",
            "189/189 - 0s - loss: 0.3385 - accuracy: 0.5440 - val_loss: 0.3065 - val_accuracy: 0.5476 - 210ms/epoch - 1ms/step\n",
            "Epoch 17/30\n",
            "189/189 - 0s - loss: 0.3278 - accuracy: 0.5374 - val_loss: 0.2955 - val_accuracy: 0.5476 - 194ms/epoch - 1ms/step\n",
            "Epoch 18/30\n",
            "189/189 - 0s - loss: 0.3188 - accuracy: 0.5371 - val_loss: 0.2857 - val_accuracy: 0.5476 - 197ms/epoch - 1ms/step\n",
            "Epoch 19/30\n",
            "189/189 - 0s - loss: 0.3110 - accuracy: 0.5447 - val_loss: 0.2768 - val_accuracy: 0.5476 - 193ms/epoch - 1ms/step\n",
            "Epoch 20/30\n",
            "189/189 - 0s - loss: 0.3043 - accuracy: 0.5423 - val_loss: 0.2702 - val_accuracy: 0.5495 - 196ms/epoch - 1ms/step\n",
            "Epoch 21/30\n",
            "189/189 - 0s - loss: 0.2989 - accuracy: 0.5329 - val_loss: 0.2630 - val_accuracy: 0.5495 - 209ms/epoch - 1ms/step\n",
            "Epoch 22/30\n",
            "189/189 - 0s - loss: 0.2940 - accuracy: 0.5405 - val_loss: 0.2573 - val_accuracy: 0.5476 - 195ms/epoch - 1ms/step\n",
            "Epoch 23/30\n",
            "189/189 - 0s - loss: 0.2899 - accuracy: 0.5384 - val_loss: 0.2523 - val_accuracy: 0.5476 - 195ms/epoch - 1ms/step\n",
            "Epoch 24/30\n",
            "189/189 - 0s - loss: 0.2862 - accuracy: 0.5406 - val_loss: 0.2478 - val_accuracy: 0.5495 - 206ms/epoch - 1ms/step\n",
            "Epoch 25/30\n",
            "189/189 - 0s - loss: 0.2830 - accuracy: 0.5434 - val_loss: 0.2443 - val_accuracy: 0.5495 - 196ms/epoch - 1ms/step\n",
            "Epoch 26/30\n",
            "189/189 - 0s - loss: 0.2804 - accuracy: 0.5425 - val_loss: 0.2409 - val_accuracy: 0.5495 - 200ms/epoch - 1ms/step\n",
            "Epoch 27/30\n",
            "189/189 - 0s - loss: 0.2779 - accuracy: 0.5438 - val_loss: 0.2375 - val_accuracy: 0.5495 - 195ms/epoch - 1ms/step\n",
            "Epoch 28/30\n",
            "189/189 - 0s - loss: 0.2758 - accuracy: 0.5448 - val_loss: 0.2348 - val_accuracy: 0.5495 - 206ms/epoch - 1ms/step\n",
            "Epoch 29/30\n",
            "189/189 - 0s - loss: 0.2739 - accuracy: 0.5328 - val_loss: 0.2323 - val_accuracy: 0.5495 - 194ms/epoch - 1ms/step\n",
            "Epoch 30/30\n",
            "189/189 - 0s - loss: 0.2723 - accuracy: 0.5452 - val_loss: 0.2301 - val_accuracy: 0.5495 - 192ms/epoch - 1ms/step\n"
          ]
        },
        {
          "output_type": "execute_result",
          "data": {
            "text/plain": [
              "<keras.src.callbacks.History at 0x7e9abda58610>"
            ]
          },
          "metadata": {},
          "execution_count": 22
        }
      ]
    },
    {
      "cell_type": "markdown",
      "source": [
        "Building a test set and predicting"
      ],
      "metadata": {
        "id": "v_zYW7mxTTQo"
      }
    },
    {
      "cell_type": "code",
      "source": [
        "from random import randint\n",
        "import numpy as np\n",
        "from sklearn.utils import shuffle\n",
        "from sklearn.preprocessing import StandardScaler"
      ],
      "metadata": {
        "id": "E2HmtumQdxf_"
      },
      "execution_count": 35,
      "outputs": []
    },
    {
      "cell_type": "code",
      "source": [
        "test_labels= []\n",
        "test_samples= []"
      ],
      "metadata": {
        "id": "fgr8IfaLP1XF"
      },
      "execution_count": 23,
      "outputs": []
    },
    {
      "cell_type": "code",
      "source": [
        "# Initialize lists to store samples and labels\n",
        "test_samples = []\n",
        "test_labels = []\n",
        "\n",
        "# Generate samples and labels\n",
        "for i in range(10):\n",
        "    # The 5% of older individuals who did not experience side effects\n",
        "    random_older = randint(65, 100)\n",
        "    test_samples.append(random_older)\n",
        "    test_labels.append(0)\n",
        "\n",
        "for i in range(200):\n",
        "    # The 95% of younger individuals who did not experience side effects\n",
        "    random_younger = randint(13, 64)\n",
        "    test_samples.append(random_younger)\n",
        "    test_labels.append(1)\n",
        "\n",
        "# Convert lists to numpy arrays\n",
        "test_labels = np.array(test_labels)\n",
        "test_samples = np.array(test_samples)\n",
        "\n",
        "# Shuffle the arrays\n",
        "test_labels, test_samples = shuffle(test_labels, test_samples)\n",
        "\n",
        "# Initialize scaler\n",
        "scaler = StandardScaler()\n",
        "\n",
        "# Reshape samples for scaling\n",
        "scaled_test_samples = scaler.fit_transform(test_samples.reshape(-1, 1))\n"
      ],
      "metadata": {
        "id": "oRbD765md3Zz"
      },
      "execution_count": 34,
      "outputs": []
    },
    {
      "cell_type": "code",
      "source": [
        "predictions = model.predict(\n",
        "    x = scaled_test_samples,\n",
        "    batch_size= 10,\n",
        "    verbose= 0\n",
        "\n",
        ")"
      ],
      "metadata": {
        "id": "yS40I-V6Yt0D"
      },
      "execution_count": 36,
      "outputs": []
    },
    {
      "cell_type": "code",
      "source": [
        "print(predictions[:5])"
      ],
      "metadata": {
        "colab": {
          "base_uri": "https://localhost:8080/"
        },
        "id": "Ra40W84xfcke",
        "outputId": "1f42f1e9-333d-491f-e1d4-22d01bdc38e0"
      },
      "execution_count": 37,
      "outputs": [
        {
          "output_type": "stream",
          "name": "stdout",
          "text": [
            "[[[0.9715473  0.02845259]]\n",
            "\n",
            " [[0.01573298 0.984267  ]]\n",
            "\n",
            " [[0.9937564  0.00624358]]\n",
            "\n",
            " [[0.07863201 0.92136794]]\n",
            "\n",
            " [[0.9963418  0.00365817]]]\n"
          ]
        }
      ]
    },
    {
      "cell_type": "code",
      "source": [
        "# Rounding up predictions to get 0 or 1\n",
        "rounded_predictions = np.argmax(predictions, axis= -1)\n",
        "rounded_predictions[:5]"
      ],
      "metadata": {
        "colab": {
          "base_uri": "https://localhost:8080/"
        },
        "id": "vPV6OJXHgsGh",
        "outputId": "11a0a48f-63e2-49c5-e125-3ab8a892b882"
      },
      "execution_count": 38,
      "outputs": [
        {
          "output_type": "execute_result",
          "data": {
            "text/plain": [
              "array([[0],\n",
              "       [1],\n",
              "       [0],\n",
              "       [1],\n",
              "       [0]])"
            ]
          },
          "metadata": {},
          "execution_count": 38
        }
      ]
    },
    {
      "cell_type": "markdown",
      "source": [
        "Confusion Matrices for accuracy check"
      ],
      "metadata": {
        "id": "b0tNYbbBjOjQ"
      }
    },
    {
      "cell_type": "code",
      "source": [
        "from sklearn.metrics import confusion_matrix\n",
        "import itertools\n",
        "import matplotlib.pyplot as plt"
      ],
      "metadata": {
        "id": "7fNyX8stjS0I"
      },
      "execution_count": 43,
      "outputs": []
    },
    {
      "cell_type": "code",
      "source": [
        "cm = confusion_matrix(y_true= test_labels, y_pred= rounded_predictions)"
      ],
      "metadata": {
        "id": "QXyZT9rZjg5d"
      },
      "execution_count": 44,
      "outputs": []
    },
    {
      "cell_type": "code",
      "source": [
        "# This function prints and plots the confusion matrix.\n",
        "  # Normalization can be applied by setting 'normalize= True'\n",
        "\n",
        "def plot_confusion_matrix(cm,\n",
        "                          classes,\n",
        "                          normalize= 'Confusion matrix',\n",
        "                          cmap= plt.cm.Blues\n",
        "                          ):\n",
        "  plt.imshow(cm, interpolation= 'nearest', cmap=cmap)\n",
        "  plt.title(title)\n",
        "  plt.colorbar()\n",
        "  tick_marks= np.arange(len(classes))\n",
        "  plt.xticks(tick_marks, classes, rotation= 45)\n",
        "  plt.yticks(tick_marks, classes)\n",
        "\n",
        "  if normalize:\n",
        "    cm= cm.astype('float') / cm.sum(axis= 1)[:, np.newaxis]\n",
        "    print('Normalized confusion matrix')\n",
        "  else:\n",
        "    print('Confusion matrix, without normalization')\n",
        "\n",
        "  print(cm)\n",
        "\n",
        "  thresh= cm.max/2\n",
        "  for i, j in itertools.product(range(cm.shape[0]), range(cm.shape[1])):\n",
        "    plt.text(j, i, cm[i, j],\n",
        "             horizontalalignment= 'Centre',\n",
        "             color= 'White' if cm[i, j] > thresh else 'Black')\n",
        "    plt.tight_layout()\n",
        "    plt.ylabel('True Label')\n",
        "    plt.xlabel('Predicted Label')\n",
        "\n",
        ""
      ],
      "metadata": {
        "id": "yNKaOl3ckzA4"
      },
      "execution_count": 53,
      "outputs": []
    },
    {
      "cell_type": "code",
      "source": [
        "cm_plot_labels = ['No_side_effects','Had_side_effects']"
      ],
      "metadata": {
        "id": "woPGBSTYom2z"
      },
      "execution_count": 48,
      "outputs": []
    },
    {
      "cell_type": "code",
      "source": [
        "plot_confusion_matrix(cm= cm, classes= cm_plot_labels, title= 'Confusion_matrix')\n"
      ],
      "metadata": {
        "colab": {
          "base_uri": "https://localhost:8080/",
          "height": 176
        },
        "id": "9qpp2AQvqzVr",
        "outputId": "c69fc7dc-73de-48df-9f76-d5be128adea4"
      },
      "execution_count": 60,
      "outputs": [
        {
          "output_type": "error",
          "ename": "TypeError",
          "evalue": "plot_confusion_matrix() got an unexpected keyword argument 'title'",
          "traceback": [
            "\u001b[0;31m---------------------------------------------------------------------------\u001b[0m",
            "\u001b[0;31mTypeError\u001b[0m                                 Traceback (most recent call last)",
            "\u001b[0;32m<ipython-input-60-f4f0957bb7ee>\u001b[0m in \u001b[0;36m<cell line: 1>\u001b[0;34m()\u001b[0m\n\u001b[0;32m----> 1\u001b[0;31m \u001b[0mplot_confusion_matrix\u001b[0m\u001b[0;34m(\u001b[0m\u001b[0mcm\u001b[0m\u001b[0;34m=\u001b[0m \u001b[0mcm\u001b[0m\u001b[0;34m,\u001b[0m \u001b[0mclasses\u001b[0m\u001b[0;34m=\u001b[0m \u001b[0mcm_plot_labels\u001b[0m\u001b[0;34m,\u001b[0m \u001b[0mtitle\u001b[0m\u001b[0;34m=\u001b[0m \u001b[0;34m'Confusion_matrix'\u001b[0m\u001b[0;34m)\u001b[0m\u001b[0;34m\u001b[0m\u001b[0;34m\u001b[0m\u001b[0m\n\u001b[0m",
            "\u001b[0;31mTypeError\u001b[0m: plot_confusion_matrix() got an unexpected keyword argument 'title'"
          ]
        }
      ]
    },
    {
      "cell_type": "code",
      "source": [],
      "metadata": {
        "id": "kaGSHVZSrFg8"
      },
      "execution_count": null,
      "outputs": []
    }
  ]
}